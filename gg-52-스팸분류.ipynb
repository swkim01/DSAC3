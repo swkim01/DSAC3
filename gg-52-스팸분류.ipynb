{
  "nbformat": 4,
  "nbformat_minor": 0,
  "metadata": {
    "kernelspec": {
      "display_name": "Python 3",
      "language": "python",
      "name": "python3"
    },
    "language_info": {
      "codemirror_mode": {
        "name": "ipython",
        "version": 3
      },
      "file_extension": ".py",
      "mimetype": "text/x-python",
      "name": "python",
      "nbconvert_exporter": "python",
      "pygments_lexer": "ipython3",
      "version": "3.6.6"
    },
    "colab": {
      "name": "gg_52_스팸분류.ipynb",
      "provenance": [],
      "collapsed_sections": []
    }
  },
  "cells": [
    {
      "cell_type": "markdown",
      "metadata": {
        "id": "7PybvSGXA1da"
      },
      "source": [
        "# 스팸 분류\n",
        "\n",
        "<table class=\"tfo-notebook-buttons\" align=\"left\">\n",
        "  <td>\n",
        "    <a target=\"_blank\" href=\"https://colab.research.google.com/github/swkim01/DSAC3/blob/main/gg-52-스팸분류.ipynb\"><img src=\"https://github.com/swkim01/DSAC3/raw/main/colab_logo_32px.png\" />구글 코랩에서 실행</a>\n",
        "  </td>\n",
        "  <td>\n",
        "    <a target=\"_blank\" href=\"https://github.com/swkim01/DSAC3/blob/main/gg-52-스팸분류.ipynb\"><img src=\"https://github.com/swkim01/DSAC3/raw/main/GitHub-Mark-32px.png\" />깃헙에서 소스 보기</a>\n",
        "  </td>\n",
        "</table>"
      ]
    },
    {
      "cell_type": "code",
      "metadata": {
        "id": "qYVOAzUcA1dk"
      },
      "source": [
        "import pandas as pd\n",
        "import numpy as np\n",
        "import matplotlib.pyplot as plt\n",
        "%matplotlib inline\n",
        "from sklearn.model_selection import train_test_split\n",
        "from sklearn.feature_extraction.text import TfidfVectorizer\n",
        "from sklearn.naive_bayes import MultinomialNB"
      ],
      "execution_count": 1,
      "outputs": []
    },
    {
      "cell_type": "code",
      "metadata": {
        "id": "P0D4ZxQyA1dm",
        "colab": {
          "base_uri": "https://localhost:8080/"
        },
        "outputId": "232d40bf-42ee-4d8d-c755-c8376db03469"
      },
      "source": [
        "#!curl -L https://bit.ly/2WC9nvn -o sms_spam.csv\n",
        "!curl -L https://github.com/swkim01/DSAC3/raw/main/sms_spam.csv -o sms_spam.csv"
      ],
      "execution_count": 2,
      "outputs": [
        {
          "output_type": "stream",
          "name": "stdout",
          "text": [
            "  % Total    % Received % Xferd  Average Speed   Time    Time     Time  Current\n",
            "                                 Dload  Upload   Total   Spent    Left  Speed\n",
            "100   131  100   131    0     0    639      0 --:--:-- --:--:-- --:--:--   639\n",
            "100  488k  100  488k    0     0   997k      0 --:--:-- --:--:-- --:--:-- 13.7M\n"
          ]
        }
      ]
    },
    {
      "cell_type": "code",
      "metadata": {
        "id": "wrFjs5qxA1dn"
      },
      "source": [
        "sms = pd.read_csv('sms_spam.csv', encoding='latin-1')\n",
        "x = sms['text'].tolist()\n",
        "y = sms['type'].tolist()"
      ],
      "execution_count": 3,
      "outputs": []
    },
    {
      "cell_type": "code",
      "metadata": {
        "id": "zwX5cE4EA1do",
        "colab": {
          "base_uri": "https://localhost:8080/"
        },
        "outputId": "d42f4465-a817-4efc-d077-d2829fc4ed61"
      },
      "source": [
        "x[:4], y[:4]"
      ],
      "execution_count": 4,
      "outputs": [
        {
          "output_type": "execute_result",
          "data": {
            "text/plain": [
              "(['Go until jurong point, crazy.. Available only in bugis n great world la e buffet... Cine there got amore wat...',\n",
              "  'Ok lar... Joking wif u oni...',\n",
              "  \"Free entry in 2 a wkly comp to win FA Cup final tkts 21st May 2005. Text FA to 87121 to receive entry question(std txt rate)T&C's apply 08452810075over18's\",\n",
              "  'U dun say so early hor... U c already then say...'],\n",
              " ['ham', 'ham', 'spam', 'ham'])"
            ]
          },
          "metadata": {},
          "execution_count": 4
        }
      ]
    },
    {
      "cell_type": "markdown",
      "metadata": {
        "id": "bjh9xUDmBLb-"
      },
      "source": [
        "- Tfidf 로 문서-단어 행렬을 만든다\n",
        "- 나이브 베이즈 알고리즘으로 성능을 측정한다"
      ]
    },
    {
      "cell_type": "code",
      "metadata": {
        "id": "JWJ9ODSGA1dp",
        "colab": {
          "base_uri": "https://localhost:8080/"
        },
        "outputId": "27a8d729-8e70-448a-a896-c83e9b8a1eb8"
      },
      "source": [
        "x_train, x_test, y_train, y_test = train_test_split(x, y, test_size=0.3)\n",
        "\n",
        "#tfidf = TfidfVectorizer(\"english\")\n",
        "tfidf = TfidfVectorizer()\n",
        "x_train_tf = tfidf.fit_transform(x_train)\n",
        "x_test_tf = tfidf.transform(x_test)\n",
        "\n",
        "mnb = MultinomialNB()\n",
        "mnb.fit(x_train_tf, y_train)"
      ],
      "execution_count": 6,
      "outputs": [
        {
          "output_type": "execute_result",
          "data": {
            "text/plain": [
              "MultinomialNB()"
            ]
          },
          "metadata": {},
          "execution_count": 6
        }
      ]
    },
    {
      "cell_type": "code",
      "metadata": {
        "id": "y8oLtLIUA1dq",
        "colab": {
          "base_uri": "https://localhost:8080/"
        },
        "outputId": "21059f61-eb0c-4f45-ef0b-179ebfe704c6"
      },
      "source": [
        "from sklearn import metrics\n",
        "y_pred = mnb.predict(x_test_tf) # 학습된 모델을 이용하여 예측\n",
        "print(metrics.classification_report(y_test, y_pred)) # 분류 성능 평가"
      ],
      "execution_count": 7,
      "outputs": [
        {
          "output_type": "stream",
          "name": "stdout",
          "text": [
            "              precision    recall  f1-score   support\n",
            "\n",
            "         ham       0.96      1.00      0.98      1454\n",
            "        spam       1.00      0.74      0.85       219\n",
            "\n",
            "    accuracy                           0.97      1673\n",
            "   macro avg       0.98      0.87      0.92      1673\n",
            "weighted avg       0.97      0.97      0.96      1673\n",
            "\n"
          ]
        }
      ]
    },
    {
      "cell_type": "code",
      "metadata": {
        "id": "1sItrZqNA1dr",
        "colab": {
          "base_uri": "https://localhost:8080/"
        },
        "outputId": "11d1d957-4f6a-4cd3-c8ff-8723aa902d89"
      },
      "source": [
        "print (\"score :\", mnb.score(x_test_tf, y_test))"
      ],
      "execution_count": null,
      "outputs": [
        {
          "output_type": "stream",
          "text": [
            "score : 0.9581589958158996\n"
          ],
          "name": "stdout"
        }
      ]
    },
    {
      "cell_type": "markdown",
      "metadata": {
        "id": "HfWYKDLhA1ds"
      },
      "source": [
        "# 다른 알고리즘 비교"
      ]
    },
    {
      "cell_type": "code",
      "metadata": {
        "id": "AWLnU2wnA1ds"
      },
      "source": [
        "import seaborn as sns\n",
        "import string\n",
        "from nltk.stem import SnowballStemmer\n",
        "from nltk.corpus import stopwords"
      ],
      "execution_count": null,
      "outputs": []
    },
    {
      "cell_type": "code",
      "metadata": {
        "id": "Dhh5ne0dA1ds"
      },
      "source": [
        "def text_process(text):\n",
        "    #구분자 제거\n",
        "    text = text.translate(str.maketrans('', '', string.punctuation))\n",
        "    #모든 텍스트를 소문자로 바꾸고, stopword를 제거함\n",
        "    text = [word for word in text.split() if word.lower() not in stopwords.words('english')]\n",
        "    \n",
        "    return \" \".join(text)"
      ],
      "execution_count": null,
      "outputs": []
    },
    {
      "cell_type": "code",
      "metadata": {
        "id": "AcT4baPFA1dt"
      },
      "source": [
        "from sklearn.linear_model import LogisticRegression\n",
        "from sklearn.svm import SVC\n",
        "from sklearn.tree import DecisionTreeClassifier\n",
        "from sklearn.neighbors import KNeighborsClassifier\n",
        "from sklearn.ensemble import RandomForestClassifier\n",
        "from sklearn.ensemble import AdaBoostClassifier\n",
        "from sklearn.ensemble import BaggingClassifier\n",
        "from sklearn.ensemble import ExtraTreesClassifier\n",
        "from sklearn.metrics import accuracy_score"
      ],
      "execution_count": null,
      "outputs": []
    },
    {
      "cell_type": "code",
      "metadata": {
        "id": "pZm463_HA1dt"
      },
      "source": [
        "svc = SVC(kernel='sigmoid', gamma=1.0)\n",
        "knc = KNeighborsClassifier(n_neighbors=49)\n",
        "mnb = MultinomialNB(alpha=0.2)\n",
        "dtc = DecisionTreeClassifier(min_samples_split=7, random_state=111)\n",
        "lrc = LogisticRegression(solver='liblinear', penalty='l1')\n",
        "rfc = RandomForestClassifier(n_estimators=31, random_state=111)\n",
        "abc = AdaBoostClassifier(n_estimators=62, random_state=111)\n",
        "bc = BaggingClassifier(n_estimators=9, random_state=111)\n",
        "etc = ExtraTreesClassifier(n_estimators=9, random_state=111)"
      ],
      "execution_count": null,
      "outputs": []
    },
    {
      "cell_type": "code",
      "metadata": {
        "id": "O1c_YpvzA1du"
      },
      "source": [
        "clfs = {'SVC' : svc,'KN' : knc, 'NB': mnb, 'DT': dtc, 'LR': lrc, 'RF': rfc, 'AdaBoost': abc, 'BgC': bc, 'ETC': etc}"
      ],
      "execution_count": null,
      "outputs": []
    },
    {
      "cell_type": "code",
      "metadata": {
        "id": "ySCoAh4LA1dv"
      },
      "source": [
        "#train데이터를 각각의 classifier에 fit하기 위한 함수\n",
        "def train_classifier(clf, X_train, y_train): \n",
        "    clf.fit(X_train, y_train)\n",
        "\n",
        "#feature를 각각의 classifier를 이용해 예측\n",
        "def predict_labels(clf, features):\n",
        "    return (clf.predict(features))\n",
        "\n",
        "#pred_scores 리스트를 만들고, 분류기의 예측 결과들을 리스트의 원소로 함\n",
        "pred_scores = []\n",
        "for k,v in clfs.items():\n",
        "    train_classifier(v, x_train_tf, y_train) #train데이터를 이용해 분류\n",
        "    pred = predict_labels(v,x_test_tf) #예측\n",
        "    pred_scores.append((k, [accuracy_score(y_test,pred)]))#accuracy 스코어를 리스트에 추가"
      ],
      "execution_count": null,
      "outputs": []
    },
    {
      "cell_type": "code",
      "metadata": {
        "id": "_3ldi_wSA1dv",
        "colab": {
          "base_uri": "https://localhost:8080/",
          "height": 328
        },
        "outputId": "98029e32-396b-44bf-9156-d26fa978c746"
      },
      "source": [
        "#각각의 classifier 스코어 출력\n",
        "#df = pd.DataFrame.from_items(pred_scores,orient='index', columns=['Score'])\n",
        "df = pd.DataFrame.from_dict(dict(pred_scores), orient='index', columns=['Score'])\n",
        "df"
      ],
      "execution_count": null,
      "outputs": [
        {
          "output_type": "execute_result",
          "data": {
            "text/html": [
              "<div>\n",
              "<style scoped>\n",
              "    .dataframe tbody tr th:only-of-type {\n",
              "        vertical-align: middle;\n",
              "    }\n",
              "\n",
              "    .dataframe tbody tr th {\n",
              "        vertical-align: top;\n",
              "    }\n",
              "\n",
              "    .dataframe thead th {\n",
              "        text-align: right;\n",
              "    }\n",
              "</style>\n",
              "<table border=\"1\" class=\"dataframe\">\n",
              "  <thead>\n",
              "    <tr style=\"text-align: right;\">\n",
              "      <th></th>\n",
              "      <th>Score</th>\n",
              "    </tr>\n",
              "  </thead>\n",
              "  <tbody>\n",
              "    <tr>\n",
              "      <th>SVC</th>\n",
              "      <td>0.987448</td>\n",
              "    </tr>\n",
              "    <tr>\n",
              "      <th>KN</th>\n",
              "      <td>0.949193</td>\n",
              "    </tr>\n",
              "    <tr>\n",
              "      <th>NB</th>\n",
              "      <td>0.983264</td>\n",
              "    </tr>\n",
              "    <tr>\n",
              "      <th>DT</th>\n",
              "      <td>0.964136</td>\n",
              "    </tr>\n",
              "    <tr>\n",
              "      <th>LR</th>\n",
              "      <td>0.964734</td>\n",
              "    </tr>\n",
              "    <tr>\n",
              "      <th>RF</th>\n",
              "      <td>0.974895</td>\n",
              "    </tr>\n",
              "    <tr>\n",
              "      <th>AdaBoost</th>\n",
              "      <td>0.972504</td>\n",
              "    </tr>\n",
              "    <tr>\n",
              "      <th>BgC</th>\n",
              "      <td>0.965332</td>\n",
              "    </tr>\n",
              "    <tr>\n",
              "      <th>ETC</th>\n",
              "      <td>0.980275</td>\n",
              "    </tr>\n",
              "  </tbody>\n",
              "</table>\n",
              "</div>"
            ],
            "text/plain": [
              "             Score\n",
              "SVC       0.987448\n",
              "KN        0.949193\n",
              "NB        0.983264\n",
              "DT        0.964136\n",
              "LR        0.964734\n",
              "RF        0.974895\n",
              "AdaBoost  0.972504\n",
              "BgC       0.965332\n",
              "ETC       0.980275"
            ]
          },
          "metadata": {
            "tags": []
          },
          "execution_count": 18
        }
      ]
    },
    {
      "cell_type": "code",
      "metadata": {
        "id": "7pJbzm49A1dw",
        "colab": {
          "base_uri": "https://localhost:8080/",
          "height": 427
        },
        "outputId": "18fa3141-f714-4a40-d624-4e588fa04ec1"
      },
      "source": [
        "#classifier에 따른 accuracy 히스토그램\n",
        "df.plot(kind='bar', ylim=(0.9,1.0), figsize=(11,6), align='center', colormap=\"Accent\")\n",
        "plt.xticks(np.arange(9), df.index)\n",
        "plt.ylabel('Accuracy Score')\n",
        "plt.title('Distribution by Classifier')\n",
        "plt.legend(bbox_to_anchor=(1.05, 1), loc=2, borderaxespad=0.)\n",
        "%config InlineBackend.figure_format = 'retina'"
      ],
      "execution_count": null,
      "outputs": [
        {
          "output_type": "display_data",
          "data": {
            "image/png": "[encoded data removed]",
            "text/plain": [
              "<Figure size 792x432 with 1 Axes>"
            ]
          },
          "metadata": {
            "tags": [],
            "image/png": {
              "width": 765,
              "height": 410
            },
            "needs_background": "light"
          }
        }
      ]
    }
  ]
}