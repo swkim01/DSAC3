{
  "nbformat": 4,
  "nbformat_minor": 0,
  "metadata": {
    "colab": {
      "name": "gg_56_토픽모델링.ipynb",
      "provenance": [],
      "collapsed_sections": []
    },
    "language_info": {
      "codemirror_mode": {
        "name": "ipython",
        "version": 3
      },
      "file_extension": ".py",
      "mimetype": "text/x-python",
      "name": "python",
      "nbconvert_exporter": "python",
      "pygments_lexer": "ipython3",
      "version": "3.5.2"
    },
    "kernelspec": {
      "name": "python3",
      "display_name": "Python 3"
    },
    "accelerator": "GPU"
  },
  "cells": [
    {
      "cell_type": "markdown",
      "metadata": {
        "id": "3BsFbov-mYgH"
      },
      "source": [
        "# 토픽모델링 (LDA)\n",
        "- 빅카인즈 뉴스기사 데이터 활용(https://www.bigkinds.or.kr/)\n",
        "\n",
        "<table class=\"tfo-notebook-buttons\" align=\"left\">\n",
        "  <td>\n",
        "    <a target=\"_blank\" href=\"https://colab.research.google.com/github/swkim01/DSAC3/blob/main/gg-56-토픽모델링.ipynb\"><img src=\"https://github.com/swkim01/DSAC3/raw/main/colab_logo_32px.png\" />구글 코랩에서 실행</a>\n",
        "  </td>\n",
        "  <td>\n",
        "    <a target=\"_blank\" href=\"https://github.com/swkim01/DSAC3/blob/main/gg-56-토픽모델링.ipynb\"><img src=\"https://github.com/swkim01/DSAC3/raw/main/GitHub-Mark-32px.png\" />깃헙에서 소스 보기</a>\n",
        "  </td>\n",
        "</table>"
      ]
    },
    {
      "cell_type": "code",
      "metadata": {
        "id": "jwLxNFThoTc9",
        "colab": {
          "base_uri": "https://localhost:8080/"
        },
        "outputId": "290fa0a0-d14f-455d-cbf3-c4520c54fa94"
      },
      "source": [
        "!pip install konlpy"
      ],
      "execution_count": 1,
      "outputs": [
        {
          "output_type": "stream",
          "name": "stdout",
          "text": [
            "Collecting konlpy\n",
            "  Downloading konlpy-0.5.2-py2.py3-none-any.whl (19.4 MB)\n",
            "\u001b[K     |████████████████████████████████| 19.4 MB 1.3 MB/s \n",
            "\u001b[?25hCollecting colorama\n",
            "  Downloading colorama-0.4.4-py2.py3-none-any.whl (16 kB)\n",
            "Requirement already satisfied: numpy>=1.6 in /usr/local/lib/python3.7/dist-packages (from konlpy) (1.19.5)\n",
            "Requirement already satisfied: tweepy>=3.7.0 in /usr/local/lib/python3.7/dist-packages (from konlpy) (3.10.0)\n",
            "Requirement already satisfied: lxml>=4.1.0 in /usr/local/lib/python3.7/dist-packages (from konlpy) (4.2.6)\n",
            "Collecting beautifulsoup4==4.6.0\n",
            "  Downloading beautifulsoup4-4.6.0-py3-none-any.whl (86 kB)\n",
            "\u001b[K     |████████████████████████████████| 86 kB 5.5 MB/s \n",
            "\u001b[?25hCollecting JPype1>=0.7.0\n",
            "  Downloading JPype1-1.3.0-cp37-cp37m-manylinux_2_5_x86_64.manylinux1_x86_64.whl (448 kB)\n",
            "\u001b[K     |████████████████████████████████| 448 kB 51.1 MB/s \n",
            "\u001b[?25hRequirement already satisfied: typing-extensions in /usr/local/lib/python3.7/dist-packages (from JPype1>=0.7.0->konlpy) (3.10.0.2)\n",
            "Requirement already satisfied: requests[socks]>=2.11.1 in /usr/local/lib/python3.7/dist-packages (from tweepy>=3.7.0->konlpy) (2.23.0)\n",
            "Requirement already satisfied: requests-oauthlib>=0.7.0 in /usr/local/lib/python3.7/dist-packages (from tweepy>=3.7.0->konlpy) (1.3.0)\n",
            "Requirement already satisfied: six>=1.10.0 in /usr/local/lib/python3.7/dist-packages (from tweepy>=3.7.0->konlpy) (1.15.0)\n",
            "Requirement already satisfied: oauthlib>=3.0.0 in /usr/local/lib/python3.7/dist-packages (from requests-oauthlib>=0.7.0->tweepy>=3.7.0->konlpy) (3.1.1)\n",
            "Requirement already satisfied: chardet<4,>=3.0.2 in /usr/local/lib/python3.7/dist-packages (from requests[socks]>=2.11.1->tweepy>=3.7.0->konlpy) (3.0.4)\n",
            "Requirement already satisfied: urllib3!=1.25.0,!=1.25.1,<1.26,>=1.21.1 in /usr/local/lib/python3.7/dist-packages (from requests[socks]>=2.11.1->tweepy>=3.7.0->konlpy) (1.24.3)\n",
            "Requirement already satisfied: idna<3,>=2.5 in /usr/local/lib/python3.7/dist-packages (from requests[socks]>=2.11.1->tweepy>=3.7.0->konlpy) (2.10)\n",
            "Requirement already satisfied: certifi>=2017.4.17 in /usr/local/lib/python3.7/dist-packages (from requests[socks]>=2.11.1->tweepy>=3.7.0->konlpy) (2021.10.8)\n",
            "Requirement already satisfied: PySocks!=1.5.7,>=1.5.6 in /usr/local/lib/python3.7/dist-packages (from requests[socks]>=2.11.1->tweepy>=3.7.0->konlpy) (1.7.1)\n",
            "Installing collected packages: JPype1, colorama, beautifulsoup4, konlpy\n",
            "  Attempting uninstall: beautifulsoup4\n",
            "    Found existing installation: beautifulsoup4 4.6.3\n",
            "    Uninstalling beautifulsoup4-4.6.3:\n",
            "      Successfully uninstalled beautifulsoup4-4.6.3\n",
            "Successfully installed JPype1-1.3.0 beautifulsoup4-4.6.0 colorama-0.4.4 konlpy-0.5.2\n"
          ]
        }
      ]
    },
    {
      "cell_type": "code",
      "metadata": {
        "id": "RAKKV201mYgJ"
      },
      "source": [
        "import konlpy\n",
        "import numpy as np\n",
        "import pandas as pd\n",
        "import sklearn\n",
        "from sklearn.feature_extraction.text import CountVectorizer\n",
        "from sklearn.decomposition import LatentDirichletAllocation\n",
        "from konlpy.tag import Twitter"
      ],
      "execution_count": 2,
      "outputs": []
    },
    {
      "cell_type": "code",
      "metadata": {
        "id": "ohsJ-x4nnakl",
        "colab": {
          "base_uri": "https://localhost:8080/"
        },
        "outputId": "e063d503-a486-41a6-a65b-0d66cf2bd3f0"
      },
      "source": [
        "!wget https://bit.ly/2QA9xhg -O news_1500.xlsx"
      ],
      "execution_count": 3,
      "outputs": [
        {
          "output_type": "stream",
          "name": "stdout",
          "text": [
            "--2021-11-28 07:32:43--  https://bit.ly/2QA9xhg\n",
            "Resolving bit.ly (bit.ly)... 67.199.248.10, 67.199.248.11\n",
            "Connecting to bit.ly (bit.ly)|67.199.248.10|:443... connected.\n",
            "HTTP request sent, awaiting response... 301 Moved Permanently\n",
            "Location: https://www.dropbox.com/s/yj1gxuy0hkjwjpu/news_1500.xlsx [following]\n",
            "--2021-11-28 07:32:44--  https://www.dropbox.com/s/yj1gxuy0hkjwjpu/news_1500.xlsx\n",
            "Resolving www.dropbox.com (www.dropbox.com)... 162.125.7.18, 2620:100:6035:18::a27d:5512\n",
            "Connecting to www.dropbox.com (www.dropbox.com)|162.125.7.18|:443... connected.\n",
            "HTTP request sent, awaiting response... 301 Moved Permanently\n",
            "Location: /s/raw/yj1gxuy0hkjwjpu/news_1500.xlsx [following]\n",
            "--2021-11-28 07:32:44--  https://www.dropbox.com/s/raw/yj1gxuy0hkjwjpu/news_1500.xlsx\n",
            "Reusing existing connection to www.dropbox.com:443.\n",
            "HTTP request sent, awaiting response... 302 Found\n",
            "Location: https://ucc004e7cbeaf7b878548a507c1f.dl.dropboxusercontent.com/cd/0/inline/Ba39oZI4-3yn5k6Em4U9-9SJV18nixZa7lQhg4E44t43szXG1p2_86puiUY5UQ0FCjY_LDKn2p9Giv3i3mgLlPlGCRivuNQtPXoo1HHkBVGveSn_sujBzzW04_n7CxuQBvZ8glBW9TfT--vuwqfdpRoC/file# [following]\n",
            "--2021-11-28 07:32:45--  https://ucc004e7cbeaf7b878548a507c1f.dl.dropboxusercontent.com/cd/0/inline/Ba39oZI4-3yn5k6Em4U9-9SJV18nixZa7lQhg4E44t43szXG1p2_86puiUY5UQ0FCjY_LDKn2p9Giv3i3mgLlPlGCRivuNQtPXoo1HHkBVGveSn_sujBzzW04_n7CxuQBvZ8glBW9TfT--vuwqfdpRoC/file\n",
            "Resolving ucc004e7cbeaf7b878548a507c1f.dl.dropboxusercontent.com (ucc004e7cbeaf7b878548a507c1f.dl.dropboxusercontent.com)... 162.125.81.15, 2620:100:6030:15::a27d:500f\n",
            "Connecting to ucc004e7cbeaf7b878548a507c1f.dl.dropboxusercontent.com (ucc004e7cbeaf7b878548a507c1f.dl.dropboxusercontent.com)|162.125.81.15|:443... connected.\n",
            "HTTP request sent, awaiting response... 302 Found\n",
            "Location: /cd/0/inline2/Ba2sBiHDHnLjdKy-Ii1bP89HEFz4K1HBaRSBRYZwijMcgOc6WvhUvp7O7d-WZoJdRWnuj2pWe_iPO6LmwWquLOYlF2kCXwwRlhzB6heVzof8AA4ALL7lbNYjUeC-dYPmRVjCPHDY21NWxyq4KuXQO9X4-4eqcNFNt4lIAGcOgihhrFvWYW4TcrenFN3T3Ju38YqftHJYpzANckzghhhfj-pMmjpGDZphhNFteCOVJwcUMq5S6rzxb9vuG0HuLsakguQCA4zV74A0q0SYAi1eugf0XfZjEWdlR-O5w2XpYVXtVEBJF4kt_KP_KQDhCT4e7W2SMKZHj0xupzC9Ab_TyGaUyYQQ9DhZMN2VQWxwKpWhXX--QXGaReNu5rBRsGcCaYA/file [following]\n",
            "--2021-11-28 07:32:45--  https://ucc004e7cbeaf7b878548a507c1f.dl.dropboxusercontent.com/cd/0/inline2/Ba2sBiHDHnLjdKy-Ii1bP89HEFz4K1HBaRSBRYZwijMcgOc6WvhUvp7O7d-WZoJdRWnuj2pWe_iPO6LmwWquLOYlF2kCXwwRlhzB6heVzof8AA4ALL7lbNYjUeC-dYPmRVjCPHDY21NWxyq4KuXQO9X4-4eqcNFNt4lIAGcOgihhrFvWYW4TcrenFN3T3Ju38YqftHJYpzANckzghhhfj-pMmjpGDZphhNFteCOVJwcUMq5S6rzxb9vuG0HuLsakguQCA4zV74A0q0SYAi1eugf0XfZjEWdlR-O5w2XpYVXtVEBJF4kt_KP_KQDhCT4e7W2SMKZHj0xupzC9Ab_TyGaUyYQQ9DhZMN2VQWxwKpWhXX--QXGaReNu5rBRsGcCaYA/file\n",
            "Reusing existing connection to ucc004e7cbeaf7b878548a507c1f.dl.dropboxusercontent.com:443.\n",
            "HTTP request sent, awaiting response... 200 OK\n",
            "Length: 316462 (309K) [application/vnd.openxmlformats-officedocument.spreadsheetml.sheet]\n",
            "Saving to: ‘news_1500.xlsx’\n",
            "\n",
            "news_1500.xlsx      100%[===================>] 309.04K  1.66MB/s    in 0.2s    \n",
            "\n",
            "2021-11-28 07:32:46 (1.66 MB/s) - ‘news_1500.xlsx’ saved [316462/316462]\n",
            "\n"
          ]
        }
      ]
    },
    {
      "cell_type": "code",
      "metadata": {
        "id": "NWAqESDNmYgM"
      },
      "source": [
        "#df_train = pd.read_excel('news_1500.xlsx', names=['기사'], delimiter='\\t', keep_default_na=False)\n",
        "df_train = pd.read_excel('news_1500.xlsx', names=['기사'], keep_default_na=False)\n",
        "\n",
        "#Countvectorizer적용을 위해 list로 변환\n",
        "list_train = df_train['기사'].tolist()"
      ],
      "execution_count": 4,
      "outputs": []
    },
    {
      "cell_type": "code",
      "metadata": {
        "id": "pzcn7CzxnsID",
        "colab": {
          "base_uri": "https://localhost:8080/"
        },
        "outputId": "82afe7cb-3680-40a2-a5c2-5fd9cfc778d4"
      },
      "source": [
        "len(list_train)"
      ],
      "execution_count": 5,
      "outputs": [
        {
          "output_type": "execute_result",
          "data": {
            "text/plain": [
              "1499"
            ]
          },
          "metadata": {},
          "execution_count": 5
        }
      ]
    },
    {
      "cell_type": "code",
      "metadata": {
        "id": "F-9QTOBPn0wS",
        "colab": {
          "base_uri": "https://localhost:8080/"
        },
        "outputId": "7250ad46-8915-4c08-f49f-a5b57e43d578"
      },
      "source": [
        "list_train[:5]"
      ],
      "execution_count": 6,
      "outputs": [
        {
          "output_type": "execute_result",
          "data": {
            "text/plain": [
              "['호주 브리즈번에서 발생한 한국인 워킹홀리데이 참가자 살해범이 같은 한국인 것으로 드라나 충격을 주고 있다. \\n \\n20일 호주 국영 ABC방송은 퀸즐랜드주 경찰이 김모(28)씨를 살해하고 암매장한 혐의로\\xa0한국인 홍모(28)씨를\\xa0체포했다고 보도했다. \\n \\n경찰에 따르면 홍씨는\\xa0지난 16일 오후 브리즈번 캐넌힐에서 1만 5000 호주달러를 원화로 환전해줄 사..',\n",
              " '호주 경찰이 한국인 워킹홀리데이 참가자를 살해한 혐의로 또 다른 한국인 남성을 기소했다고 호주 언론이 보도했다. \\n \\n퀸즐랜드주 경찰은 20일(현지시간) 금품을 빼앗기 위해 김민태(28)씨를 살해한 혐의로 황모(28)씨를 기소했다고 시드니모닝헤럴드가 보도했다. \\n \\n그는 이날 브리즈번 법원에서 열린 심리에 출석해 기자들로부터 고개를 돌린 채 아래쪽만 쳐..',\n",
              " '\\xa0 \\n \\n호주 괴물 가재가 공개돼 네티즌들의 폭발적인 관심을 끌고 있다. \\n \\n최근 각종 온라인 커뮤니티 게시판에는 ‘호주 괴물 가재’라는 제목의 사진 한 장이 게재됐다. \\n \\n공개된 사진에는 웬만한 성인 남성 팔 크기와 비슷한 가재의 모습이 담겨 있다. 사진 속 남성도 가재가 무거운지 엉거주춤한 자세를 취하고 있다. 호주에서 잡힌 것으로 알려진 가재의..',\n",
              " '최근 인기를 끌고 있는 tvN의 드라마 ‘응답하라 1994’가 같은 장면을 내보내고 다른 프로그램의 화면이 나오는 등 방송사고를 냈다. \\n▶ 방송사고 이후 사과 자막이 나오는 tvN ‘응답하라 1994’의 한 장면.20일 밤 10시쯤 드라마 ‘응답하라 1994’가 방송되는 도중에 방송사고가 발생했다. 이날 방송에서 성나정이 호주로 떠났다가 한국으로 돌아..',\n",
              " '호주 워킹홀리데이 한국인 참가자가 19일 또다시 숨진 채 발견됐다. 지난달 호주에서 한국인 여대생이 무참히 살해된 지 한 달도 지나지 않아 발생한 이번 사건으로 호주 교민사회 및 어학연수 희망자들의 불안감이 커지고 있다. \\n \\n호주 ABC방송 등에 따르면 퀸즐랜드주 경찰은 이날 브리즈번 남서부 앨지스터 한 주택 뒷마당에서 발견된 변사체가 사흘 전 행방불..']"
            ]
          },
          "metadata": {},
          "execution_count": 6
        }
      ]
    },
    {
      "cell_type": "code",
      "metadata": {
        "id": "fiT5TWoImYgQ",
        "colab": {
          "base_uri": "https://localhost:8080/"
        },
        "outputId": "a3d9ac11-c041-4052-c9cb-98421c9574cb"
      },
      "source": [
        "twitter = Twitter()\n",
        "results = []\n",
        "for line in list_train:\n",
        "    word_list = twitter.pos(line, norm=True, stem=True)\n",
        "    words = []\n",
        "    for word in word_list:\n",
        "        if not word[1] in [\"Josa\", \"eomi\", \"Punctuation\", \"Verb\"]:\n",
        "            words.append(word[0])\n",
        "    words = (\" \".join(words)).strip()\n",
        "    results.append(words)"
      ],
      "execution_count": 7,
      "outputs": [
        {
          "output_type": "stream",
          "name": "stderr",
          "text": [
            "/usr/local/lib/python3.7/dist-packages/konlpy/tag/_okt.py:16: UserWarning: \"Twitter\" has changed to \"Okt\" since KoNLPy v0.4.5.\n",
            "  warn('\"Twitter\" has changed to \"Okt\" since KoNLPy v0.4.5.')\n"
          ]
        }
      ]
    },
    {
      "cell_type": "code",
      "metadata": {
        "id": "fOJsf8t2mYgT"
      },
      "source": [
        "vect = CountVectorizer(max_features=10000, max_df=.10)\n",
        "X = vect.fit_transform(results)\n",
        "\n",
        "lda = LatentDirichletAllocation(n_components=10, learning_method=\"batch\",\n",
        "                                max_iter=25, random_state=0)\n",
        "\n",
        "document_topics = lda.fit_transform(X)"
      ],
      "execution_count": 8,
      "outputs": []
    },
    {
      "cell_type": "code",
      "metadata": {
        "id": "9CDlvyGlmYgV",
        "colab": {
          "base_uri": "https://localhost:8080/"
        },
        "outputId": "f961ec0d-2743-4b0c-d37b-3ad4466c8ad2"
      },
      "source": [
        "lda.components_.shape"
      ],
      "execution_count": 9,
      "outputs": [
        {
          "output_type": "execute_result",
          "data": {
            "text/plain": [
              "(10, 10000)"
            ]
          },
          "metadata": {},
          "execution_count": 9
        }
      ]
    },
    {
      "cell_type": "code",
      "metadata": {
        "id": "Xwof2b3HmYgZ",
        "outputId": "2bd00d7f-9ad7-4ee2-e3b7-5a2becfd81a8",
        "colab": {
          "base_uri": "https://localhost:8080/"
        }
      },
      "source": [
        "# 토픽마다(components_의 행) 특성을 오름차순으로 정렬합니다\n",
        "# 내림차순이 되도록 [:, ::-1] 사용해 행의 정렬을 반대로 바꿉니다\n",
        "sorting = np.argsort(lda.components_, axis=1)[:, ::-1]\n",
        "\n",
        "# CountVectorizer 객체에서 특성 이름을 구합니다.\n",
        "feature_names = np.array(vect.get_feature_names())"
      ],
      "execution_count": 10,
      "outputs": [
        {
          "output_type": "stream",
          "name": "stderr",
          "text": [
            "/usr/local/lib/python3.7/dist-packages/sklearn/utils/deprecation.py:87: FutureWarning: Function get_feature_names is deprecated; get_feature_names is deprecated in 1.0 and will be removed in 1.2. Please use get_feature_names_out instead.\n",
            "  warnings.warn(msg, category=FutureWarning)\n"
          ]
        }
      ]
    },
    {
      "cell_type": "code",
      "metadata": {
        "id": "XOiDo2XumYgc",
        "colab": {
          "base_uri": "https://localhost:8080/"
        },
        "outputId": "54232e17-ee58-45cd-f142-0695277fb1b2"
      },
      "source": [
        "# 10개의 토픽을 출력합니다\n",
        "%matplotlib inline\n",
        "import matplotlib.pyplot as plt\n",
        "\n",
        "def print_topics(topics, feature_names, sorting, topics_per_chunk=6, n_words=20):\n",
        "    for i in range(0, len(topics), topics_per_chunk):\n",
        "        # for each chunk:\n",
        "        these_topics = topics[i: i + topics_per_chunk]\n",
        "        # maybe we have less than topics_per_chunk left\n",
        "        len_this_chunk = len(these_topics)\n",
        "        # print topic headers\n",
        "        print((\"topic {:<8}\" * len_this_chunk).format(*these_topics))\n",
        "        print((\"-------- {0:<5}\" * len_this_chunk).format(\"\"))\n",
        "        # print top n_words frequent words\n",
        "        for i in range(n_words):\n",
        "            try:\n",
        "                print((\"{:<14}\" * len_this_chunk).format(\n",
        "                    *feature_names[sorting[these_topics, i]]))\n",
        "            except:\n",
        "                pass\n",
        "        print(\"\\n\")\n",
        "        \n",
        "print_topics(topics=range(10), feature_names=feature_names, sorting=sorting, topics_per_chunk=5, n_words=10)"
      ],
      "execution_count": 11,
      "outputs": [
        {
          "output_type": "stream",
          "name": "stdout",
          "text": [
            "topic 0       topic 1       topic 2       topic 3       topic 4       \n",
            "--------      --------      --------      --------      --------      \n",
            "박태환           보도            국제            리그            올림픽           \n",
            "올림픽           필리핀           사드            포켓몬           경기            \n",
            "수영            지역            발표            축구            대표팀           \n",
            "출전            통해            개최            acl           예선            \n",
            "리우            결과            내년            감독            대회            \n",
            "국가대표          정부            독도            게임            시드니           \n",
            "27            같다            평화            시즌            오후            \n",
            "정부            발견            위성            해밍턴           2016          \n",
            "선수            조사            소녀            지난해           출전            \n",
            "대학            방송            기업            전북            리우            \n",
            "\n",
            "\n",
            "topic 5       topic 6       topic 7       topic 8       topic 9       \n",
            "--------      --------      --------      --------      --------      \n",
            "축구            골프            국가            대통령           여성            \n",
            "브라질           투어            국제            마약            통화            \n",
            "월드컵           프로            삼성            국가            일리            \n",
            "선수            대회            대만            개국            시드니           \n",
            "fifa          여자            2013          없다            수출            \n",
            "본선            랭킹            해외            20            메일            \n",
            "대표팀           lpga          시리즈           개발            해외            \n",
            "연맹            상금            대통령           전자            밉다            \n",
            "2014          라운드           정보            유엔            정부            \n",
            "국제            pga           보도            우리나라          소녀            \n",
            "\n",
            "\n"
          ]
        }
      ]
    },
    {
      "cell_type": "code",
      "metadata": {
        "id": "ybisFleNmYgf"
      },
      "source": [
        "# 100개 토픽 학습\n",
        "lda100 = LatentDirichletAllocation(n_components=100, learning_method=\"batch\",\n",
        "                                   max_iter=25, random_state=0)\n",
        "document_topics100 = lda100.fit_transform(X)"
      ],
      "execution_count": 12,
      "outputs": []
    },
    {
      "cell_type": "code",
      "metadata": {
        "id": "j1LVxI1PmYgi"
      },
      "source": [
        "topics = np.array([7, 16, 24, 41, 45, 51, 54, 81, 89, 97])"
      ],
      "execution_count": 13,
      "outputs": []
    },
    {
      "cell_type": "code",
      "metadata": {
        "id": "aXLkPbtdmYgk",
        "colab": {
          "base_uri": "https://localhost:8080/"
        },
        "outputId": "2cbe1273-e659-4c5e-8ed7-690c44314de3"
      },
      "source": [
        "sorting = np.argsort(lda100.components_, axis=1)[:, ::-1]\n",
        "feature_names = np.array(vect.get_feature_names())\n",
        "print_topics(topics=topics, feature_names=feature_names,\n",
        "                           sorting=sorting, topics_per_chunk=5, n_words=10)"
      ],
      "execution_count": 14,
      "outputs": [
        {
          "output_type": "stream",
          "name": "stderr",
          "text": [
            "/usr/local/lib/python3.7/dist-packages/sklearn/utils/deprecation.py:87: FutureWarning: Function get_feature_names is deprecated; get_feature_names is deprecated in 1.0 and will be removed in 1.2. Please use get_feature_names_out instead.\n",
            "  warnings.warn(msg, category=FutureWarning)\n"
          ]
        },
        {
          "output_type": "stream",
          "name": "stdout",
          "text": [
            "topic 7       topic 16      topic 24      topic 41      topic 45      \n",
            "--------      --------      --------      --------      --------      \n",
            "엘니뇨           위해            사이트           태풍            리그            \n",
            "피해자           남중국해          경쟁            이름            전북            \n",
            "옥스팜           보도            이행            의미            축구            \n",
            "보고서           페이스북          도박            손흥민           연맹            \n",
            "2013          커플            수준            독일            acl           \n",
            "트러블메이커        인도            포트            지역            챔피언스리그        \n",
            "노예            합동            발표            매장            클래식           \n",
            "wff           순찰            국가            물이            현대            \n",
            "가장            이케아           등급            게시            서울            \n",
            "항공            방송            서울대           말레이시아         시즌            \n",
            "\n",
            "\n",
            "topic 51      topic 54      topic 81      topic 89      topic 97      \n",
            "--------      --------      --------      --------      --------      \n",
            "브라질           fta           여성            강아지           독도            \n",
            "네이마르          체결            이혼            유산            우즈            \n",
            "축구            축산물           자신            도시            중앙            \n",
            "감독            수입            소주            시드니           감독            \n",
            "월드컵           소방관           보도            지구            연맹            \n",
            "치료            자유무역          크루즈           혼자            마무리           \n",
            "연금            협정            가운데           도둑            평균            \n",
            "포켓몬           감독            아이            흉기            투수            \n",
            "지역            올해            옥스퍼드          도주            식목일           \n",
            "안보            수출입           정부            방송            바다            \n",
            "\n",
            "\n"
          ]
        }
      ]
    },
    {
      "cell_type": "code",
      "metadata": {
        "id": "lkML7dNemYgo",
        "colab": {
          "base_uri": "https://localhost:8080/"
        },
        "outputId": "f7a37d4b-dda5-4c14-c05a-cbe425ce3f84"
      },
      "source": [
        "# 골프 관련 토픽 86를 가중치로 정렬합니다\n",
        "golf = np.argsort(document_topics100[:, 86])[::-1]\n",
        "# 이 토픽이 가장 비중이 큰 문서 다섯개를 출력합니다\n",
        "for i in golf[:5]:\n",
        "    # 첫 5 문장을 출력합니다\n",
        "    print(list_train[i], \"\\n\")"
      ],
      "execution_count": 17,
      "outputs": [
        {
          "output_type": "stream",
          "name": "stdout",
          "text": [
            "기권을 선언한 박인비 선수. 사진=SBS '힐링캠프' 방송화면 캡처‘골프 여제’ 박인비(28 KB금융그룹)가 미국여자프로골프(LPGA) 투어 2016시즌 개막전에서 허리 부상 때문에 경기를 포기하고 결국 기권을 선언해 이목이 집중됐다. \n",
            " \n",
            "박인비는 29일(한국시간) 바하마 파라다이스의 오션 클럽 골프코스(파73 6천625야드)에서 열린 바하마 클래식(.. \n",
            "\n",
            "34개 대회에 총상금 6735만달러(약 794억원)가 걸려 있는 2017 미국여자프로골프(LPGA)투어가 27일 퓨어 실크 바하마 LPGA 클래식(총상금 140만달러)을 시작으로 11개월간의 대장정에 돌입한다. \n",
            " \n",
            "카리브해 바하마의 파라다이스 아일랜드 오션클럽 골프코스(파73 6625야드)에서 열리는 퓨어 실크 바하마 LPGA 클래식은 시즌 개막전으로.. \n",
            "\n",
            "한국 남자 골프의 희망 김시우(22 CJ대한쇼핑 사진)가 2017년 새해 첫 대회에서 세계 최고수들과 샷 대결을 펼친다. \n",
            " \n",
            "지난해 8월 미국프로골프(PGA)투어 윈덤챔피언십 우승자인 김시우는 5일 밤(한국시간)부터 나흘 동안 미국 하와이의 카팔루아 리조트의 플랜테이션 골프코스(파73 7452야드)에서 열리는 PGA투어 SBS 토너먼트 오브 챔피언스(.. \n",
            "\n",
            "또 한 번의 매머드급 국제행사가 이달 중순 한국에서 열린다. \n",
            " \n",
            "사이버 정책에 영향을 미치는 정부 각료와 전문가, 국제기구 등 국내외에서 1000명 이상의 인사가 참여하는 ‘제3차 세계 사이버스페이스 총회’다. 17일부터 이틀간 서울 코엑스에서 개최된다. 사이버 이슈를 다루는 단일 국제회의로는 역대 최대규모다. \n",
            " \n",
            "국제금융(2010년 서울 G20 정.. \n",
            "\n",
            "박인비. 사진제공=KB금융그룹미국여자프로골프(LPGA)투어에서 ‘한국인 첫 올해의 선수’에 이어 2년 연속 상금왕에 오른 박인비(25 KB금융그룹)는 “세계랭킹 1위에 올해의 선수상을 받았지만 상금왕까지는 욕심내지 않았다”며 기쁨을 드러냈다. 박인비는 “올해 목표는 마지막 대회까지 세계랭킹 1위 자리를 지키는 것이었는 데 세가지를 다 이뤘다”고 스스로 .. \n",
            "\n"
          ]
        }
      ]
    },
    {
      "cell_type": "code",
      "metadata": {
        "id": "wWD5U4a-tDyp",
        "colab": {
          "base_uri": "https://localhost:8080/"
        },
        "outputId": "bd33fb2a-2645-4fae-8c6a-a9d391f5db6c"
      },
      "source": [
        "#한글 설치\n",
        "#!apt-get install fonts-nanum*\n",
        "#!apt-get install fontconfig\n",
        "#!fc-cache -fv\n",
        "#!cp /usr/share/fonts/truetype/nanum/Nanum* /usr/local/lib/python3.7/dist-packages/matplotlib/mpl-data/fonts/ttf/\n",
        "#!rm -rf /content/.cache/matplotlib/*\n",
        "##import matplotlib\n",
        "##matplotlib.font_manager._rebuild()\n",
        "!sudo apt-get install -y fonts-nanum\n",
        "!sudo fc-cache -fv\n",
        "!rm ~/.cache/matplotlib -rf"
      ],
      "execution_count": 1,
      "outputs": [
        {
          "output_type": "stream",
          "name": "stdout",
          "text": [
            "Reading package lists... Done\n",
            "Building dependency tree       \n",
            "Reading state information... Done\n",
            "The following NEW packages will be installed:\n",
            "  fonts-nanum\n",
            "0 upgraded, 1 newly installed, 0 to remove and 37 not upgraded.\n",
            "Need to get 9,604 kB of archives.\n",
            "After this operation, 29.5 MB of additional disk space will be used.\n",
            "Get:1 http://archive.ubuntu.com/ubuntu bionic/universe amd64 fonts-nanum all 20170925-1 [9,604 kB]\n",
            "Fetched 9,604 kB in 3s (3,048 kB/s)\n",
            "debconf: unable to initialize frontend: Dialog\n",
            "debconf: (No usable dialog-like program is installed, so the dialog based frontend cannot be used. at /usr/share/perl5/Debconf/FrontEnd/Dialog.pm line 76, <> line 1.)\n",
            "debconf: falling back to frontend: Readline\n",
            "debconf: unable to initialize frontend: Readline\n",
            "debconf: (This frontend requires a controlling tty.)\n",
            "debconf: falling back to frontend: Teletype\n",
            "dpkg-preconfigure: unable to re-open stdin: \n",
            "Selecting previously unselected package fonts-nanum.\n",
            "(Reading database ... 155222 files and directories currently installed.)\n",
            "Preparing to unpack .../fonts-nanum_20170925-1_all.deb ...\n",
            "Unpacking fonts-nanum (20170925-1) ...\n",
            "Setting up fonts-nanum (20170925-1) ...\n",
            "Processing triggers for fontconfig (2.12.6-0ubuntu2) ...\n",
            "/usr/share/fonts: caching, new cache contents: 0 fonts, 1 dirs\n",
            "/usr/share/fonts/truetype: caching, new cache contents: 0 fonts, 3 dirs\n",
            "/usr/share/fonts/truetype/humor-sans: caching, new cache contents: 1 fonts, 0 dirs\n",
            "/usr/share/fonts/truetype/liberation: caching, new cache contents: 16 fonts, 0 dirs\n",
            "/usr/share/fonts/truetype/nanum: caching, new cache contents: 10 fonts, 0 dirs\n",
            "/usr/local/share/fonts: caching, new cache contents: 0 fonts, 0 dirs\n",
            "/root/.local/share/fonts: skipping, no such directory\n",
            "/root/.fonts: skipping, no such directory\n",
            "/var/cache/fontconfig: cleaning cache directory\n",
            "/root/.cache/fontconfig: not cleaning non-existent cache directory\n",
            "/root/.fontconfig: not cleaning non-existent cache directory\n",
            "fc-cache: succeeded\n"
          ]
        }
      ]
    },
    {
      "cell_type": "code",
      "metadata": {
        "id": "zgdc2cEtmYgs",
        "colab": {
          "base_uri": "https://localhost:8080/",
          "height": 729
        },
        "outputId": "62dc7f96-ce80-431b-af30-5ff6693a44df"
      },
      "source": [
        "import platform\n",
        "from matplotlib import font_manager, rc\n",
        "\n",
        "import matplotlib.pyplot as plt\n",
        "import matplotlib\n",
        "\n",
        "# '-' 기호 보이게 하기\n",
        "matplotlib.rcParams['axes.unicode_minus'] = False\n",
        "\n",
        "if platform.system() == 'Windows':\n",
        "    path = \"c:\\Windows\\Fonts\\malgun.ttf\"\n",
        "    font_name = font_manager.FontProperties(fname=path).get_name()\n",
        "    rc('font', family=font_name)\n",
        "# 맥\n",
        "elif platform.system() == 'Darwin':\n",
        "    rc('font', family='AppleGothic')\n",
        "# 리눅스\n",
        "elif platform.system() == 'Linux':\n",
        "    rc('font', family='NanumGothic')\n",
        "else:\n",
        "    print('system error...')\n",
        "\n",
        "fig, ax = plt.subplots(1, 2, figsize=(10, 10))\n",
        "topic_names = [\"{:>2} \".format(i) + \" \".join(words)\n",
        "               for i, words in enumerate(feature_names[sorting[:, :2]])]\n",
        "\n",
        "# 두 개의 열이 있는 막대 그래프\n",
        "for col in [0, 1]:\n",
        "    start = col * 50\n",
        "    end = (col + 1) * 50\n",
        "    ax[col].barh(np.arange(50), np.sum(document_topics100, axis=0)[start:end])\n",
        "    ax[col].set_yticks(np.arange(50))\n",
        "    ax[col].set_yticklabels(topic_names[start:end], ha=\"left\", va=\"top\")\n",
        "    ax[col].invert_yaxis()\n",
        "    ax[col].set_xlim(0, 100)\n",
        "    yax = ax[col].get_yaxis()\n",
        "    yax.set_tick_params(pad=130)\n",
        "plt.tight_layout()"
      ],
      "execution_count": 18,
      "outputs": [
        {
          "output_type": "display_data",
          "data": {
            "image/png": "[encoded data removed]",
            "text/plain": [
              "<Figure size 720x720 with 2 Axes>"
            ]
          },
          "metadata": {
            "needs_background": "light"
          }
        }
      ]
    }
  ]
}