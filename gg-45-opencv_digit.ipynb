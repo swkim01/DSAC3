{
  "nbformat": 4,
  "nbformat_minor": 0,
  "metadata": {
    "kernelspec": {
      "display_name": "Python 3",
      "language": "python",
      "name": "python3"
    },
    "language_info": {
      "codemirror_mode": {
        "name": "ipython",
        "version": 3
      },
      "file_extension": ".py",
      "mimetype": "text/x-python",
      "name": "python",
      "nbconvert_exporter": "python",
      "pygments_lexer": "ipython3",
      "version": "3.6.6"
    },
    "colab": {
      "name": "gg_45_opencv_digit.ipynb",
      "provenance": [],
      "collapsed_sections": []
    }
  },
  "cells": [
    {
      "cell_type": "markdown",
      "metadata": {
        "id": "Z9h6-0CRy_Nv"
      },
      "source": [
        "# 손글씨 숫자 인식\n",
        "- 8x8 픽셀 숫자 데이터 5620개 사용\n",
        "\n",
        "<table class=\"tfo-notebook-buttons\" align=\"left\">\n",
        "  <td>\n",
        "    <a target=\"_blank\" href=\"https://colab.research.google.com/github/swkim01/DSAC3/blob/main/gg-45-opencv_digit.ipynb\"><img src=\"https://github.com/swkim01/DSAC3/raw/main/colab_logo_32px.png\" />구글 코랩에서 실행</a>\n",
        "  </td>\n",
        "  <td>\n",
        "    <a target=\"_blank\" href=\"https://github.com/swkim01/DSAC3/blob/main/gg-45-opencv_digit.ipynb\"><img src=\"https://github.com/swkim01/DSAC3/raw/main/GitHub-Mark-32px.png\" />깃헙에서 소스 보기</a>\n",
        "  </td>\n",
        "</table>"
      ]
    },
    {
      "cell_type": "code",
      "metadata": {
        "id": "vb1XtLTJy_N0",
        "colab": {
          "base_uri": "https://localhost:8080/",
          "height": 265
        },
        "outputId": "c88cbfcc-d6e7-47ca-abe5-f1d3b113af2b"
      },
      "source": [
        "import cv2\n",
        "import matplotlib.pyplot as plt\n",
        "from sklearn import datasets\n",
        "%matplotlib inline\n",
        "digits = datasets.load_digits()\n",
        "plt.imshow(digits.images[1], cmap=\"gray\")\n",
        "plt.show()"
      ],
      "execution_count": 1,
      "outputs": [
        {
          "output_type": "display_data",
          "data": {
            "image/png": "[encoded data removed]",
            "text/plain": [
              "<Figure size 432x288 with 1 Axes>"
            ]
          },
          "metadata": {
            "needs_background": "light"
          }
        }
      ]
    },
    {
      "cell_type": "code",
      "metadata": {
        "id": "DjTEvNKzy_N2",
        "colab": {
          "base_uri": "https://localhost:8080/"
        },
        "outputId": "5ce64792-9568-44b2-bc6f-52156ec89a76"
      },
      "source": [
        "digits.data.shape"
      ],
      "execution_count": 2,
      "outputs": [
        {
          "output_type": "execute_result",
          "data": {
            "text/plain": [
              "(1797, 64)"
            ]
          },
          "metadata": {},
          "execution_count": 2
        }
      ]
    },
    {
      "cell_type": "code",
      "metadata": {
        "id": "jLJmNktey_N2",
        "colab": {
          "base_uri": "https://localhost:8080/"
        },
        "outputId": "2a260b35-4514-44b1-bf7e-db28d904a884"
      },
      "source": [
        "digits.target"
      ],
      "execution_count": 3,
      "outputs": [
        {
          "output_type": "execute_result",
          "data": {
            "text/plain": [
              "array([0, 1, 2, ..., 8, 9, 8])"
            ]
          },
          "metadata": {},
          "execution_count": 3
        }
      ]
    },
    {
      "cell_type": "code",
      "metadata": {
        "id": "dsEtbo9Ny_N3",
        "colab": {
          "base_uri": "https://localhost:8080/"
        },
        "outputId": "760ab484-f44d-4632-851a-e81c230f4cb5"
      },
      "source": [
        "digits.images.shape"
      ],
      "execution_count": 4,
      "outputs": [
        {
          "output_type": "execute_result",
          "data": {
            "text/plain": [
              "(1797, 8, 8)"
            ]
          },
          "metadata": {},
          "execution_count": 4
        }
      ]
    },
    {
      "cell_type": "code",
      "metadata": {
        "id": "7aS5nypLy_N3",
        "colab": {
          "base_uri": "https://localhost:8080/"
        },
        "outputId": "be16850d-4fc7-4ac0-c314-98c8cdecd62a"
      },
      "source": [
        "# 각 픽셀은 0~9의 숫자로 표현된다, 크면 밝은 색\n",
        "print(digits.images[0])"
      ],
      "execution_count": 5,
      "outputs": [
        {
          "output_type": "stream",
          "name": "stdout",
          "text": [
            "[[ 0.  0.  5. 13.  9.  1.  0.  0.]\n",
            " [ 0.  0. 13. 15. 10. 15.  5.  0.]\n",
            " [ 0.  3. 15.  2.  0. 11.  8.  0.]\n",
            " [ 0.  4. 12.  0.  0.  8.  8.  0.]\n",
            " [ 0.  5.  8.  0.  0.  9.  8.  0.]\n",
            " [ 0.  4. 11.  0.  1. 12.  7.  0.]\n",
            " [ 0.  2. 14.  5. 10. 12.  0.  0.]\n",
            " [ 0.  0.  6. 13. 10.  0.  0.  0.]]\n"
          ]
        }
      ]
    },
    {
      "cell_type": "code",
      "metadata": {
        "id": "VFa1D5yRy_N4",
        "colab": {
          "base_uri": "https://localhost:8080/",
          "height": 258
        },
        "outputId": "284b43ec-4a8c-4fac-ee2e-472296c7c6c0"
      },
      "source": [
        "for i in range(15):\n",
        "    plt.subplot(3, 5, i+1)\n",
        "    plt.axis(\"off\")\n",
        "    plt.title(str(digits.target[i]))\n",
        "    plt.imshow(digits.images[i], cmap=\"gray\")\n",
        "\n",
        "plt.show()"
      ],
      "execution_count": 6,
      "outputs": [
        {
          "output_type": "display_data",
          "data": {
            "image/png": "[encoded data removed]",
            "text/plain": [
              "<Figure size 432x288 with 15 Axes>"
            ]
          },
          "metadata": {
            "needs_background": "light"
          }
        }
      ]
    },
    {
      "cell_type": "code",
      "metadata": {
        "id": "OtYq9sBty_N4",
        "colab": {
          "base_uri": "https://localhost:8080/"
        },
        "outputId": "055235d2-9288-4b1c-8123-f11af8e2de3f"
      },
      "source": [
        "x = digits.images\n",
        "x = x.reshape((-1, 64))\n",
        "\n",
        "from sklearn.model_selection import train_test_split\n",
        "from sklearn import datasets, svm, metrics\n",
        "from sklearn.metrics import accuracy_score\n",
        "\n",
        "y = digits.target\n",
        "x_train, x_test, y_train, y_test = train_test_split(x, y, test_size=0.25)\n",
        "\n",
        "clf = svm.LinearSVC()\n",
        "clf.fit(x_train, y_train)\n",
        "y_pred = clf.predict(x_test)\n",
        "print(accuracy_score(y_test, y_pred))\n"
      ],
      "execution_count": 16,
      "outputs": [
        {
          "output_type": "stream",
          "name": "stdout",
          "text": [
            "0.9222222222222223\n"
          ]
        },
        {
          "output_type": "stream",
          "name": "stderr",
          "text": [
            "/usr/local/lib/python3.7/dist-packages/sklearn/svm/_base.py:1208: ConvergenceWarning: Liblinear failed to converge, increase the number of iterations.\n",
            "  ConvergenceWarning,\n"
          ]
        }
      ]
    },
    {
      "cell_type": "code",
      "metadata": {
        "id": "_1DZNeMHy_N4",
        "colab": {
          "base_uri": "https://localhost:8080/"
        },
        "outputId": "fe80253d-53d1-4569-a2ef-9b693fd38c17"
      },
      "source": [
        "# 학습한 데이터 저장하기\n",
        "#from sklearn.externals import joblib\n",
        "import joblib\n",
        "joblib.dump(clf, 'digits.pkl')"
      ],
      "execution_count": 25,
      "outputs": [
        {
          "output_type": "execute_result",
          "data": {
            "text/plain": [
              "['digits.pkl']"
            ]
          },
          "metadata": {},
          "execution_count": 25
        }
      ]
    },
    {
      "cell_type": "code",
      "metadata": {
        "id": "gTCL11u4y_N5"
      },
      "source": [
        "def predict_digit(filename):\n",
        "  # 학습한 데이터 읽어 들이기\n",
        "    model = joblib.load(\"digits.pkl\")\n",
        "    my_img = cv2.imread(filename)\n",
        "    my_img = cv2.cvtColor(my_img, cv2.COLOR_BGR2GRAY)\n",
        "    my_img = cv2.resize(my_img, (8, 8))\n",
        "    my_img = 15 - my_img // 16 \n",
        "    # 흑백 반전\n",
        "    my_img = my_img.reshape((-1, 64))\n",
        "    res = model.predict(my_img)\n",
        "    return res[0]"
      ],
      "execution_count": 26,
      "outputs": []
    },
    {
      "cell_type": "code",
      "metadata": {
        "id": "SjyIPQ-ny_N5",
        "colab": {
          "base_uri": "https://localhost:8080/",
          "height": 361
        },
        "outputId": "5f15d99d-eadc-42bf-be74-c856ec4a6896"
      },
      "source": [
        "# 이미지 파일을 지정해서 실행하기\n",
        "# 미리보기에서 클립보드에서 파일로 저장 실행\n",
        "# 이미지 그리기도 미리보기에서 가능함\n",
        "! curl -L \"https://github.com/swkim01/DSAC3/raw/main/digit2_2.png\" -o \"digit2.png\"\n",
        "img = cv2.imread(\"digit2.png\")\n",
        "plt.imshow(cv2.cvtColor(img, cv2.COLOR_BGR2RGB))\n",
        "n = predict_digit(\"digit2.png\")\n",
        "print(\"digit2.png = \" + str(n))\n",
        "plt.show()"
      ],
      "execution_count": 27,
      "outputs": [
        {
          "output_type": "stream",
          "name": "stdout",
          "text": [
            "  % Total    % Received % Xferd  Average Speed   Time    Time     Time  Current\n",
            "                                 Dload  Upload   Total   Spent    Left  Speed\n",
            "100   131  100   131    0     0   1201      0 --:--:-- --:--:-- --:--:--  1201\n",
            "100  9344  100  9344    0     0  31567      0 --:--:-- --:--:-- --:--:-- 31567\n",
            "digit2.png = 2\n"
          ]
        },
        {
          "output_type": "display_data",
          "data": {
            "image/png": "[encoded data removed]",
            "text/plain": [
              "<Figure size 432x288 with 1 Axes>"
            ]
          },
          "metadata": {
            "needs_background": "light"
          }
        }
      ]
    },
    {
      "cell_type": "code",
      "metadata": {
        "scrolled": true,
        "id": "npsHFiUSy_N5",
        "colab": {
          "base_uri": "https://localhost:8080/",
          "height": 361
        },
        "outputId": "3df79f96-998d-48f5-bb26-6015e2b1d16c"
      },
      "source": [
        "! curl -L \"https://github.com/swkim01/DSAC3/raw/main/digit9_3.png\" -o \"digit9.png\"\n",
        "img = cv2.imread(\"digit9.png\")\n",
        "plt.imshow(cv2.cvtColor(img, cv2.COLOR_BGR2RGB))\n",
        "n = predict_digit(\"digit9.png\")\n",
        "print(\"digit9.png = \" + str(n))\n",
        "plt.show()"
      ],
      "execution_count": 28,
      "outputs": [
        {
          "output_type": "stream",
          "name": "stdout",
          "text": [
            "  % Total    % Received % Xferd  Average Speed   Time    Time     Time  Current\n",
            "                                 Dload  Upload   Total   Spent    Left  Speed\n",
            "100   131  100   131    0     0   1378      0 --:--:-- --:--:-- --:--:--  1393\n",
            "100 33284  100 33284    0     0   130k      0 --:--:-- --:--:-- --:--:--  130k\n",
            "digit9.png = 9\n"
          ]
        },
        {
          "output_type": "display_data",
          "data": {
            "image/png": "[encoded data removed]",
            "text/plain": [
              "<Figure size 432x288 with 1 Axes>"
            ]
          },
          "metadata": {
            "needs_background": "light"
          }
        }
      ]
    },
    {
      "cell_type": "code",
      "metadata": {
        "id": "lv27hJSyy_N6",
        "colab": {
          "base_uri": "https://localhost:8080/",
          "height": 361
        },
        "outputId": "fc6e1b1a-6748-4368-effe-4c66cb7bd8e8"
      },
      "source": [
        "! curl -L \"https://github.com/swkim01/DSAC3/raw/main/digit9_4.png\" -o \"digit9-2.png\"\n",
        "img = cv2.imread(\"digit9-2.png\")\n",
        "plt.imshow(cv2.cvtColor(img, cv2.COLOR_BGR2RGB))\n",
        "n = predict_digit(\"digit9-2.png\")\n",
        "print(\"digit9-2.png = \" + str(n))\n",
        "plt.show()"
      ],
      "execution_count": 29,
      "outputs": [
        {
          "output_type": "stream",
          "name": "stdout",
          "text": [
            "  % Total    % Received % Xferd  Average Speed   Time    Time     Time  Current\n",
            "                                 Dload  Upload   Total   Spent    Left  Speed\n",
            "100   131  100   131    0     0   1297      0 --:--:-- --:--:-- --:--:--  1297\n",
            "100 24365  100 24365    0     0   108k      0 --:--:-- --:--:-- --:--:--  108k\n",
            "digit9-2.png = 6\n"
          ]
        },
        {
          "output_type": "display_data",
          "data": {
            "image/png": "[encoded data removed]",
            "text/plain": [
              "<Figure size 432x288 with 1 Axes>"
            ]
          },
          "metadata": {
            "needs_background": "light"
          }
        }
      ]
    }
  ]
}